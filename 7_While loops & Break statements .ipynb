{
 "cells": [
  {
   "cell_type": "code",
   "execution_count": 1,
   "metadata": {},
   "outputs": [
    {
     "name": "stdout",
     "output_type": "stream",
     "text": [
      "10\n"
     ]
    }
   ],
   "source": [
    "# adding elements using while loop\n",
    "\n",
    "total =0 \n",
    "i= 1\n",
    "while i<5:\n",
    "    total = total + i \n",
    "    i= i+1 \n",
    "print (total)\n",
    "    "
   ]
  },
  {
   "cell_type": "code",
   "execution_count": 2,
   "metadata": {},
   "outputs": [
    {
     "name": "stdout",
     "output_type": "stream",
     "text": [
      "17\n"
     ]
    }
   ],
   "source": [
    "#given_list = [5, 4, 4, 3, 1, -2, -3, -5]   # its a descending list as first nmbrs are bigger. \n",
    "#find the sum of only the positive numbers in this list \n",
    "\n",
    "total1 = 0\n",
    "i=0 \n",
    "given_list = [5,4,4,3,1,-2,-3,-5]\n",
    "while given_list[i]>0:\n",
    "    total1 = total1 + given_list[i]\n",
    "    i=i+1\n",
    "print (total1)\n"
   ]
  },
  {
   "cell_type": "code",
   "execution_count": 3,
   "metadata": {},
   "outputs": [
    {
     "name": "stdout",
     "output_type": "stream",
     "text": [
      "17\n"
     ]
    }
   ],
   "source": [
    "# it will give an error if we do the same code for given_list2 = [5,4,4,3,1] cz after index 4, index 5 is missing.\n",
    "# for solving this we can use predefined  \"len\"\n",
    "\n",
    "total2 = 0\n",
    "i=0 \n",
    "given_list2 = [5,4,4,3,1]\n",
    "while i<len(given_list2) and given_list2[i]>0:\n",
    "    total2 = total2 + given_list2[i]\n",
    "    i=i+1\n",
    "print (total2)\n",
    "\n"
   ]
  },
  {
   "cell_type": "code",
   "execution_count": 14,
   "metadata": {},
   "outputs": [
    {
     "name": "stdout",
     "output_type": "stream",
     "text": [
      "17\n"
     ]
    }
   ],
   "source": [
    "given_list3 = [5, 4, 4, 3, 1, -1, -2, -3, -5]\n",
    "total3=0\n",
    "i=0\n",
    "while True:     \n",
    "    total3 = total3 + given_list3 [i]\n",
    "    i= i+1\n",
    "    if (given_list3[i]<= 0): \n",
    "        break \n",
    "print (total3)"
   ]
  },
  {
   "cell_type": "code",
   "execution_count": 13,
   "metadata": {},
   "outputs": [
    {
     "name": "stdout",
     "output_type": "stream",
     "text": [
      "17\n"
     ]
    }
   ],
   "source": [
    "given_list3 = [5, 4, 4, 3, 1, -1, -2, -3, -5]\n",
    "\n",
    "total4 =0\n",
    "for element in given_list3:\n",
    "    if  element < 0:\n",
    "        break\n",
    "    total4 = total4 + element\n",
    "print (total4)"
   ]
  }
 ],
 "metadata": {
  "kernelspec": {
   "display_name": "Python 3",
   "language": "python",
   "name": "python3"
  },
  "language_info": {
   "codemirror_mode": {
    "name": "ipython",
    "version": 3
   },
   "file_extension": ".py",
   "mimetype": "text/x-python",
   "name": "python",
   "nbconvert_exporter": "python",
   "pygments_lexer": "ipython3",
   "version": "3.7.4"
  }
 },
 "nbformat": 4,
 "nbformat_minor": 2
}
