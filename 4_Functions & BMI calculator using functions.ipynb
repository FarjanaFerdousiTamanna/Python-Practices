{
 "cells": [
  {
   "cell_type": "code",
   "execution_count": 1,
   "metadata": {},
   "outputs": [
    {
     "name": "stdout",
     "output_type": "stream",
     "text": [
      "This will be printed as this is excluded\n"
     ]
    }
   ],
   "source": [
    "# collection of codes through function \n",
    "\n",
    "def function1() :\n",
    "    print (\"Hi, I am mou\")\n",
    "    print (\"and I am writing this code\")\n",
    "\n",
    "# if the print is not after 4 spaces then the printing is excluded from the function.\n",
    "print (\"This will be printed as this is excluded\")\n",
    "\n",
    "    "
   ]
  },
  {
   "cell_type": "code",
   "execution_count": 2,
   "metadata": {},
   "outputs": [
    {
     "name": "stdout",
     "output_type": "stream",
     "text": [
      "Hi, I am mou\n",
      "and I am writing this code\n"
     ]
    }
   ],
   "source": [
    "#for printing the fuction we have to call the function \n",
    "function1()"
   ]
  },
  {
   "cell_type": "code",
   "execution_count": 14,
   "metadata": {},
   "outputs": [
    {
     "name": "stdout",
     "output_type": "stream",
     "text": [
      "Hi, I am mou\n",
      "and I am writing this code\n",
      "Hi, I am mou\n",
      "and I am writing this code\n",
      "Hi, I am mou\n",
      "and I am writing this code\n"
     ]
    }
   ],
   "source": [
    "#Same function can be called more than once in same cell \n",
    "function1 ()\n",
    "function1()\n",
    "function1()"
   ]
  },
  {
   "cell_type": "code",
   "execution_count": 15,
   "metadata": {},
   "outputs": [
    {
     "name": "stdout",
     "output_type": "stream",
     "text": [
      "6\n"
     ]
    }
   ],
   "source": [
    "# mapping using functions \n",
    "\n",
    "#example 1\n",
    "\n",
    "# x= a input or an argument \n",
    "# defining a function called function2 which will take x as its argumrnt \n",
    "# and return the value of 2X whoever will call the function funtion2\n",
    "\n",
    "def function2 (x):\n",
    "    return 2*x\n",
    "\n",
    "# want to print the value of function2 so using a and assigning the argument value as 3\n",
    "a = function2(3)\n",
    "\n",
    "# when we will print a we will get the return value , 2*x = 2*3 =6\n",
    "print (a)\n",
    "   "
   ]
  },
  {
   "cell_type": "code",
   "execution_count": 17,
   "metadata": {},
   "outputs": [
    {
     "name": "stdout",
     "output_type": "stream",
     "text": [
      "20\n"
     ]
    },
    {
     "ename": "TypeError",
     "evalue": "function2() missing 1 required positional argument: 'x'",
     "output_type": "error",
     "traceback": [
      "\u001b[1;31m---------------------------------------------------------------------------\u001b[0m",
      "\u001b[1;31mTypeError\u001b[0m                                 Traceback (most recent call last)",
      "\u001b[1;32m<ipython-input-17-94940c3a0843>\u001b[0m in \u001b[0;36m<module>\u001b[1;34m\u001b[0m\n\u001b[0;32m      6\u001b[0m \u001b[1;31m#and we dont assign the value of argument then it will give us error\u001b[0m\u001b[1;33m\u001b[0m\u001b[1;33m\u001b[0m\u001b[1;33m\u001b[0m\u001b[0m\n\u001b[0;32m      7\u001b[0m \u001b[1;33m\u001b[0m\u001b[0m\n\u001b[1;32m----> 8\u001b[1;33m \u001b[0mc\u001b[0m\u001b[1;33m=\u001b[0m \u001b[0mfunction2\u001b[0m \u001b[1;33m(\u001b[0m\u001b[1;33m)\u001b[0m\u001b[1;33m\u001b[0m\u001b[1;33m\u001b[0m\u001b[0m\n\u001b[0m\u001b[0;32m      9\u001b[0m \u001b[0mprint\u001b[0m \u001b[1;33m(\u001b[0m\u001b[0mC\u001b[0m\u001b[1;33m)\u001b[0m\u001b[1;33m\u001b[0m\u001b[1;33m\u001b[0m\u001b[0m\n",
      "\u001b[1;31mTypeError\u001b[0m: function2() missing 1 required positional argument: 'x'"
     ]
    }
   ],
   "source": [
    "#another output using function2\n",
    "# 10*2 =20 will be printed\n",
    "b= function2 (10)\n",
    "print (b)\n",
    "\n",
    "#and we dont assign the value of argument then it will give us error\n",
    "\n",
    "c= function2 ()\n",
    "print (C)\n"
   ]
  },
  {
   "cell_type": "code",
   "execution_count": 18,
   "metadata": {},
   "outputs": [
    {
     "name": "stdout",
     "output_type": "stream",
     "text": [
      "5\n"
     ]
    }
   ],
   "source": [
    "# multiple arguments in single function can be possible\n",
    "\n",
    "def function3 (x,y):\n",
    "    return x+y\n",
    "\n",
    "d = function3 (2,3)\n",
    "print (d)"
   ]
  },
  {
   "cell_type": "code",
   "execution_count": 20,
   "metadata": {},
   "outputs": [
    {
     "name": "stdout",
     "output_type": "stream",
     "text": [
      "32\n"
     ]
    }
   ],
   "source": [
    "def function4 (x,y,z):\n",
    "    return x*y+z\n",
    "\n",
    "e= function4 (5,6,2)\n",
    "print (e)\n"
   ]
  },
  {
   "cell_type": "code",
   "execution_count": 21,
   "metadata": {},
   "outputs": [],
   "source": [
    "# combining set of codes and mapping in same function \n",
    "\n",
    "def function5 (x):\n",
    "    print (x)\n",
    "    print (\"set of codes\")\n",
    "    print (\"now i will write the code of returning value\")\n",
    "    return x*2\n"
   ]
  },
  {
   "cell_type": "code",
   "execution_count": 22,
   "metadata": {},
   "outputs": [
    {
     "name": "stdout",
     "output_type": "stream",
     "text": [
      "6\n",
      "set of codes\n",
      "now i will write the code of returning value\n",
      "12\n"
     ]
    }
   ],
   "source": [
    "f= function5 (6)\n",
    "print (f)"
   ]
  },
  {
   "cell_type": "code",
   "execution_count": 57,
   "metadata": {},
   "outputs": [
    {
     "name": "stdout",
     "output_type": "stream",
     "text": [
      "BMI: \n",
      "19.62826470116968\n",
      "Tamanna is not overweight\n",
      "BMI: \n",
      "28.133656509695292\n",
      "Ammu is overweight\n",
      "BMI: \n",
      "29.72651605231867\n",
      "Abbu is overweight\n"
     ]
    }
   ],
   "source": [
    "# BMI CALCULATOR \n",
    "\n",
    "name1 = \"Tamanna\"\n",
    "height_m1 = 1.58\n",
    "weight_kg1 = 49 \n",
    "\n",
    "name2 = \"Ammu\"\n",
    "height_m2 = 1.52\n",
    "weight_kg2 = 65\n",
    "\n",
    "name3 = \"Abbu\"\n",
    "height_m3 = 1.74\n",
    "weight_kg3 = 90\n",
    "\n",
    "def BMI_Calculator ( name, height_m, weight_kg):\n",
    "    BMI = weight_kg / (height_m **2)\n",
    "    print (\"BMI: \" )\n",
    "    print (BMI)\n",
    "    \n",
    "    if BMI <25:\n",
    "        return  name +  \" is not overweight\"\n",
    "  \n",
    "    else:\n",
    "        return  name +  \" is overweight\"\n",
    "        \n",
    "        \n",
    "result1 = BMI_Calculator (name1, height_m1, weight_kg1)\n",
    "print (result1)\n",
    "result2 = BMI_Calculator (name2, height_m2, weight_kg2)\n",
    "print (result2)\n",
    "result3 = BMI_Calculator (name3, height_m3, weight_kg3)\n",
    "print (result3)   \n",
    "\n"
   ]
  },
  {
   "cell_type": "code",
   "execution_count": 55,
   "metadata": {},
   "outputs": [
    {
     "name": "stdout",
     "output_type": "stream",
     "text": [
      "4.800000000000001\n"
     ]
    }
   ],
   "source": [
    "# Converting miles into kilometres \n",
    "# km = 1.6 * miles\n",
    "\n",
    "def convert (miles):\n",
    "    return miles*1.6\n",
    "\n",
    "km = convert (3)\n",
    "print (km)\n"
   ]
  },
  {
   "cell_type": "code",
   "execution_count": null,
   "metadata": {},
   "outputs": [],
   "source": []
  }
 ],
 "metadata": {
  "kernelspec": {
   "display_name": "Python 3",
   "language": "python",
   "name": "python3"
  },
  "language_info": {
   "codemirror_mode": {
    "name": "ipython",
    "version": 3
   },
   "file_extension": ".py",
   "mimetype": "text/x-python",
   "name": "python",
   "nbconvert_exporter": "python",
   "pygments_lexer": "ipython3",
   "version": "3.7.4"
  }
 },
 "nbformat": 4,
 "nbformat_minor": 2
}
