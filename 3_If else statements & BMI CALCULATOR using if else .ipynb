{
 "cells": [
  {
   "cell_type": "code",
   "execution_count": 1,
   "metadata": {},
   "outputs": [
    {
     "name": "stdout",
     "output_type": "stream",
     "text": [
      "c is not less than d\n",
      "c is definitely not less than d\n",
      "outside the if else block\n"
     ]
    }
   ],
   "source": [
    "c = 6\n",
    "d = 4\n",
    "if c<d:\n",
    "    print(\"c is less than d\")\n",
    "    print(\"i think c is less than d\")\n",
    "else:\n",
    "    print(\"c is not less than d\")\n",
    "    print(\"c is definitely not less than d\")\n",
    "print(\"outside the if else block\")"
   ]
  },
  {
   "cell_type": "code",
   "execution_count": 2,
   "metadata": {},
   "outputs": [
    {
     "name": "stdout",
     "output_type": "stream",
     "text": [
      "c is less than d\n"
     ]
    }
   ],
   "source": [
    "c = 6\n",
    "d = 7\n",
    "if c<d:\n",
    "    print (\"c is less than d\")\n",
    "elif c==d:\n",
    "    print (\"c is equal to d\")\n",
    "else:\n",
    "    print (\"c is not less than d\") "
   ]
  },
  {
   "cell_type": "code",
   "execution_count": 3,
   "metadata": {},
   "outputs": [
    {
     "name": "stdout",
     "output_type": "stream",
     "text": [
      "c is greater than f by more than 10\n"
     ]
    }
   ],
   "source": [
    "c = 20\n",
    "d = 7\n",
    "if c<d:\n",
    "    print (\"c is less than d\")\n",
    "elif c==d:\n",
    "    print (\"c is equal to d\")\n",
    "elif c> d + 3:\n",
    "    print (\"c is greater than f by more than 10\")\n",
    "else:\n",
    "    print (\"c is not less than d\") "
   ]
  },
  {
   "cell_type": "code",
   "execution_count": 4,
   "metadata": {},
   "outputs": [
    {
     "name": "stdout",
     "output_type": "stream",
     "text": [
      "BMI CALCULATOR\n",
      "BMI :\n",
      "23.120623596247853\n",
      "Tamanna\n",
      "is not overweight\n"
     ]
    }
   ],
   "source": [
    "#BMI CALCULATOR \n",
    "\n",
    "print (\"BMI CALCULATOR\")\n",
    "Name = \"Tamanna\"\n",
    "Weight_kg = 70\n",
    "Height_metre = 1.74\n",
    "\n",
    "BMI = (Weight_kg / Height_metre ** 2 )\n",
    "\n",
    "print (\"BMI :\")\n",
    "print (BMI)\n",
    "\n",
    "if BMI < 25:\n",
    "    print (Name)\n",
    "    print (\"is not overweight\")\n",
    "else:\n",
    "    print (Name)\n",
    "    print (\"is overweight\")\n"
   ]
  },
  {
   "cell_type": "code",
   "execution_count": null,
   "metadata": {},
   "outputs": [],
   "source": []
  }
 ],
 "metadata": {
  "kernelspec": {
   "display_name": "Python 3",
   "language": "python",
   "name": "python3"
  },
  "language_info": {
   "codemirror_mode": {
    "name": "ipython",
    "version": 3
   },
   "file_extension": ".py",
   "mimetype": "text/x-python",
   "name": "python",
   "nbconvert_exporter": "python",
   "pygments_lexer": "ipython3",
   "version": "3.7.4"
  }
 },
 "nbformat": 4,
 "nbformat_minor": 2
}
