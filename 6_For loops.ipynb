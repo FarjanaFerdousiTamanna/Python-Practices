{
 "cells": [
  {
   "cell_type": "code",
   "execution_count": 1,
   "metadata": {},
   "outputs": [
    {
     "name": "stdout",
     "output_type": "stream",
     "text": [
      "banana\n",
      "apple\n",
      "Microsoft\n"
     ]
    }
   ],
   "source": [
    "a = [\"banana\", \"apple\", \"Microsoft\"]\n",
    "print (a[0])\n",
    "print (a[1])\n",
    "print (a[2])"
   ]
  },
  {
   "cell_type": "code",
   "execution_count": 2,
   "metadata": {},
   "outputs": [
    {
     "name": "stdout",
     "output_type": "stream",
     "text": [
      "banana\n",
      "apple\n",
      "Microsoft\n"
     ]
    }
   ],
   "source": [
    "for element in a:\n",
    "    print (element)\n",
    " "
   ]
  },
  {
   "cell_type": "code",
   "execution_count": 4,
   "metadata": {},
   "outputs": [
    {
     "name": "stdout",
     "output_type": "stream",
     "text": [
      "banana\n",
      "banana\n",
      "apple\n",
      "apple\n",
      "Microsoft\n",
      "Microsoft\n"
     ]
    }
   ],
   "source": [
    "# double outputs\n",
    "\n",
    "for element in a:\n",
    "    print (element)\n",
    "    print (element)"
   ]
  },
  {
   "cell_type": "code",
   "execution_count": 6,
   "metadata": {},
   "outputs": [
    {
     "name": "stdout",
     "output_type": "stream",
     "text": [
      "10\n"
     ]
    }
   ],
   "source": [
    "# for doing sum the elements of b\n",
    "b = [1,2,3,4]\n",
    "# first need to assign value of the variable\n",
    "total =0\n",
    "for element in b:\n",
    "    total = total + element  # here total = 0+1 =1 ; then, 1= 1+2 =3 ; then, 3= 3+3 = 6; then 6= 6+4 =10; total=4 \n",
    "print (total)"
   ]
  },
  {
   "cell_type": "code",
   "execution_count": 9,
   "metadata": {},
   "outputs": [
    {
     "name": "stdout",
     "output_type": "stream",
     "text": [
      "[1, 2, 3, 4, 5, 6, 7]\n"
     ]
    }
   ],
   "source": [
    "# finding sum of 1,2,3,4,5,6,7 in a better way \n",
    "# range is a built in method, which takes the range from 1 to 7. 8 is not counted.\n",
    "#we can make the range in a list by writing list (range(1,8))\n",
    "#then we have to assign a variable to our list \n",
    "\n",
    "c= list(range (1,8))\n",
    "print (c)"
   ]
  },
  {
   "cell_type": "code",
   "execution_count": 18,
   "metadata": {},
   "outputs": [
    {
     "name": "stdout",
     "output_type": "stream",
     "text": [
      "1\n",
      "2\n",
      "3\n",
      "4\n",
      "5\n",
      "6\n",
      "7\n",
      "28\n"
     ]
    }
   ],
   "source": [
    "#we can use for loops in range like before. \n",
    "\n",
    "total2 =0  #here we assigning 0 as the value of total2\n",
    "for element in range(1,8):  #starting for loop\n",
    "    print (element)  \n",
    "    total2 = total2+element\n",
    "print (total2)\n",
    "    "
   ]
  },
  {
   "cell_type": "code",
   "execution_count": 26,
   "metadata": {},
   "outputs": [
    {
     "name": "stdout",
     "output_type": "stream",
     "text": [
      "[1, 2, 3, 4, 5, 6, 7, 8, 9, 10, 11, 12, 13, 14, 15, 16, 17, 18, 19, 20, 21, 22, 23, 24, 25, 26, 27, 28, 29, 30, 31, 32, 33, 34, 35, 36, 37, 38, 39, 40, 41, 42, 43, 44, 45, 46, 47, 48, 49, 50, 51, 52, 53, 54, 55, 56, 57, 58, 59, 60, 61, 62, 63, 64, 65, 66, 67, 68, 69, 70, 71, 72, 73, 74, 75, 76, 77, 78, 79, 80, 81, 82, 83, 84, 85, 86, 87, 88, 89, 90, 91, 92, 93, 94, 95, 96, 97, 98, 99, 100]\n",
      "1683\n"
     ]
    }
   ],
   "source": [
    "# print the elemnts which are multiples of three between 1-100 \n",
    "\n",
    "c = list (range (1,101))\n",
    "print (c)\n",
    "total3 =0\n",
    "for element in c:\n",
    "    if element % 3 ==0:\n",
    "        total3 = total3 + element\n",
    "print (total3)\n",
    "    "
   ]
  },
  {
   "cell_type": "code",
   "execution_count": 30,
   "metadata": {},
   "outputs": [
    {
     "name": "stdout",
     "output_type": "stream",
     "text": [
      "2318\n"
     ]
    }
   ],
   "source": [
    "#compute all the multiples of 3,5\n",
    "#that are less than 100 \n",
    "\n",
    "d = list (range(1,100))\n",
    "total4=0\n",
    "for element in d:\n",
    "    if element % 3 ==0 or element % 5 ==0:\n",
    "        total4 = total4 + element\n",
    "print (total4)"
   ]
  },
  {
   "cell_type": "code",
   "execution_count": null,
   "metadata": {},
   "outputs": [],
   "source": []
  }
 ],
 "metadata": {
  "kernelspec": {
   "display_name": "Python 3",
   "language": "python",
   "name": "python3"
  },
  "language_info": {
   "codemirror_mode": {
    "name": "ipython",
    "version": 3
   },
   "file_extension": ".py",
   "mimetype": "text/x-python",
   "name": "python",
   "nbconvert_exporter": "python",
   "pygments_lexer": "ipython3",
   "version": "3.7.4"
  }
 },
 "nbformat": 4,
 "nbformat_minor": 2
}
